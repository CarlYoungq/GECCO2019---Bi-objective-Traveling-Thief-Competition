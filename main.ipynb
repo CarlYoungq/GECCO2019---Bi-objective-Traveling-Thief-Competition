{
 "cells": [
  {
   "cell_type": "markdown",
   "metadata": {},
   "source": [
    "## Import packages and libraries"
   ]
  },
  {
   "cell_type": "code",
   "execution_count": 2,
   "metadata": {},
   "outputs": [],
   "source": [
    "from evolutionary_algorithm import EA"
   ]
  },
  {
   "cell_type": "markdown",
   "metadata": {},
   "source": [
    "# Main function"
   ]
  },
  {
   "cell_type": "code",
   "execution_count": 5,
   "metadata": {},
   "outputs": [],
   "source": [
    "def main():\n",
    "    ea = EA()\n",
    "    print('Item in which city', ea.city_of_item)\n",
    "    print('Profit list', ea.profit_list)\n",
    "    print('Weight list', ea.weight_list)\n",
    "    print('Max speed', ea.max_speed)\n",
    "    print('Min speed', ea.min_speed)\n",
    "    print('Distance matrix', ea.distance_matrix)\n",
    "    print('Knapsack Capacity', ea.knapsack_capacity)"
   ]
  },
  {
   "cell_type": "code",
   "execution_count": 6,
   "metadata": {},
   "outputs": [
    {
     "name": "stdout",
     "output_type": "stream",
     "text": [
      "Item in which city [2, 3, 4]\n",
      "Profit list [34, 40, 25]\n",
      "Weight list [30, 40, 21]\n",
      "Max speed 1.0\n",
      "Min speed 0.1\n",
      "Distance matrix [[0, 0, 0, 0], [0, 0, 0, 0], [0, 0, 0, 0], [0, 0, 0, 0]]\n",
      "Knapsack Capacity 80\n"
     ]
    }
   ],
   "source": [
    "main()"
   ]
  },
  {
   "cell_type": "code",
   "execution_count": null,
   "metadata": {},
   "outputs": [],
   "source": []
  }
 ],
 "metadata": {
  "kernelspec": {
   "display_name": "Python 3",
   "language": "python",
   "name": "python3"
  },
  "language_info": {
   "codemirror_mode": {
    "name": "ipython",
    "version": 3
   },
   "file_extension": ".py",
   "mimetype": "text/x-python",
   "name": "python",
   "nbconvert_exporter": "python",
   "pygments_lexer": "ipython3",
   "version": "3.11.5"
  }
 },
 "nbformat": 4,
 "nbformat_minor": 2
}
